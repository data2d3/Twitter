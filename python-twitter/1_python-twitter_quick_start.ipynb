{
 "cells": [
  {
   "cell_type": "markdown",
   "metadata": {},
   "source": [
    "# Writing a Twitter scraper\n",
    "\n",
    "\n",
    "This notebook is part of the _d2d3 (data to d3) project_ to help data engineers and information visualizers to gather, clean, format, explore, munge, understand and feature engineer data before visualization.\n",
    "\n",
    "_garbage in, garbage out (GIGO)_\n",
    "\n",
    "\n",
    "GIGO (garbage in, garbage out) is a concept common to computer science and mathematics: the quality of output is determined by the quality of the input. The purpose of the _d2d3 (data to d3) project_ is to create tutorials and tools that  gather, clean, format, explore, munge, understand and feature engineer data before creating a beautiful d3 visualization.\n",
    "\n",
    "Email _d2d3_ at _d2d3.net_ for more info.  \n",
    "\n"
   ]
  },
  {
   "cell_type": "markdown",
   "metadata": {},
   "source": [
    "# What is python-twitter\n",
    "\n",
    "*python-twitter* is one of the many libraries that make it easy to query Twitter data.  \n",
    "\n",
    "Twitter has provided `REST API's ` [https://dev.twitter.com/rest/public](https://dev.twitter.com/rest/public) which can be used by\n",
    "developers to access and read Twitter data. They have also provided a\n",
    "`Streaming API ` [https://dev.twitter.com/streaming/overview](https://dev.twitter.com/streaming/overview) which can\n",
    "be used to access Twitter Data in real-time.\n",
    "\n",
    "To use the Streaming API one needs to get an access key by applying for a Twitter developer account [https://developer.twitter.com/en/apply-for-access](https://developer.twitter.com/en/apply-for-access)  \n",
    "\n",
    "All new developers must apply for a developer account to access the Twitter developer platform. Once approved, you can begin to use the new Twitter API v2, or the v1.1 standard and premium APIs.   \n",
    "\n",
    "Most of the software written to access Twitter data provide a library\n",
    "which functions as a wrapper around Twitter's Search and Streaming API's\n",
    "and are therefore constrained by the limitations of the API's.\n",
    "\n",
    "With Twitter's Search API you can only send 180 Requests every 15\n",
    "minutes. With a maximum number of 100 tweets per Request, you\n",
    "can mine 72 tweets per hour (4 x 180 x 100 =72) . By using\n",
    "TwitterScraper you are not limited by this number but by your internet\n",
    "speed/bandwith and the number of instances of TwitterScraper you are\n",
    "willing to start.\n",
    "\n",
    "One of the bigger disadvantages of the Search API is that you can only\n",
    "access Tweets written in the **past 7 days**. This is a major bottleneck\n",
    "for anyone looking for older data. With TwitterScraper there is no such \n",
    "limitation.\n",
    "\n",
    "Per Tweet it scrapes the following information:\n",
    " + Tweet-id\n",
    " + Tweet-url\n",
    " + Tweet text\n",
    " + Tweet html\n",
    " + Links inside Tweet\n",
    " + Hashtags inside Tweet\n",
    " + Image URLS inside Tweet\n",
    " + Video URL inside Tweet\n",
    " + Tweet timestamp\n",
    " + Tweet Epoch timestamp\n",
    " + Tweet No. of likes\n",
    " + Tweet No. of replies\n",
    " + Tweet No. of retweets\n",
    " + Username\n",
    " + User Full Name / Screen Name\n",
    " + User ID\n",
    " + Tweet is an reply to\n",
    " + Tweet is replied to\n",
    " + List of users Tweet is an reply to\n",
    " + Tweet ID of parent tweet\n",
    "\n",
    " \n",
    "In addition it can scrape for the following user information:\n",
    " + Date user joined\n",
    " + User location (if filled in)\n",
    " + User blog (if filled in)\n",
    " + User No. of tweets\n",
    " + User No. of following\n",
    " + User No. of followers\n",
    " + User No. of likes\n",
    " + User No. of lists\n",
    " + User is verified\n"
   ]
  },
  {
   "cell_type": "markdown",
   "metadata": {},
   "source": [
    "# Install python-twitter\n",
    "\n",
    "To install **python-twitter**:\n",
    "\n",
    "```python\n",
    "\n",
    "    (sudo) pip install python-twitter  \n",
    "\n",
    "```\n",
    "\n",
    "#  CLI (Command Line Interace)\n",
    "\n",
    "Robots are typcally run through the command line via scripts and automated to run 24/7 on servers.  A separate notebook will discuss how to automate the scripts and create a _bot_. This notebook focuses on using the _python-twitter_ library.\n",
    "\n",
    "\n"
   ]
  },
  {
   "cell_type": "markdown",
   "metadata": {},
   "source": [
    "# Creating a Twitter app\n",
    "\n",
    "1. Go to your Twitter developer account and sign-in [https://developer.twitter.com/](https://developer.twitter.com/)  \n",
    "\n",
    "2. Create an app (Note you must be approved by Twitter before you can do this.)\n",
    "\n",
    "You should see something like the image below.\n",
    "\n",
    "![Twitter developer account](img/python-twitter_1.png)\n",
    "\n",
    "Note this tells me that Twiiter caps me at 10,000,000 tweets per month.\n",
    "\n",
    "3. Hit the create app button to create an app and give it a useful name.\n",
    "\n",
    "![Twitter app](img/python-twitter_2.png)\n",
    "\n",
    "![Twitter keys](img/python-twitter_3.png)\n",
    "\n",
    "Note it is a good idea to regenerate your keys occasionally for security. (I immediately regenerated the keys after taking a screen shot for this tutorial.)\n",
    "\n",
    "\n",
    "![Twitter app](img/python-twitter_4.png)\n",
    "\n",
    "If you need to do things like write to your Twitter account you will need to change your permissions.\n",
    "\n",
    "![Twitter keys](img/python-twitter_5.png)\n",
    "\n",
    "\n"
   ]
  },
  {
   "cell_type": "markdown",
   "metadata": {},
   "source": [
    "# python-twitter API\n",
    "\n",
    "Let's get started with the python-twitter API\n",
    "\n",
    "------\n",
    "Models\n",
    "------\n",
    "\n",
    "The library utilizes models to represent various data structures returned by Twitter. Those models are:   \n",
    "    * twitter.Category    \n",
    "    * twitter.DirectMessage    \n",
    "    * twitter.Hashtag   \n",
    "    * twitter.List   \n",
    "    * twitter.Media  \n",
    "    * twitter.Status  \n",
    "    * twitter.Trend   \n",
    "    * twitter.Url  \n",
    "    * twitter.User  \n",
    "    * twitter.UserStatus  \n",
    "\n",
    "To read the documentation for any of these models, run:  \n",
    "\n",
    "```bash\n",
    "\n",
    "    $ pydoc twitter.[model]  \n",
    "```\n",
    "\n",
    "---\n",
    "API\n",
    "---\n",
    "\n",
    "The API is exposed via the ``twitter.Api`` class.\n",
    "\n",
    "The python-twitter requires the use of OAuth keys for nearly all operations. As of Twitter's API v1.1, authentication is required for most, if not all, endpoints. Therefore, you will need to register an app with Twitter in order to use this library. Please see the \"Getting Started\" guide on https://python-twitter.readthedocs.io for more information.\n",
    "\n",
    "To generate an Access Token you have to pick what type of access your application requires and then do one of the following:\n",
    "\n",
    "- `Generate a token to access your own account <https://dev.twitter.com/oauth/overview/application-owner-access-tokens>`_\n",
    "- `Generate a pin-based token <https://dev.twitter.com/oauth/pin-based>`_\n",
    "- use the helper script `get_access_token.py <https://github.com/bear/python-twitter/blob/master/get_access_token.py>`_\n",
    "\n",
    "For full details see the `Twitter OAuth Overview <https://dev.twitter.com/oauth/overview>`_\n",
    "\n",
    "To create an instance of the ``twitter.Api`` with login credentials (Twitter now requires an OAuth Access Token for all API calls)::\n",
    "\n",
    "```python\n",
    "    >>> import twitter\n",
    "    >>> api = twitter.Api(consumer_key='consumer_key',\n",
    "                          consumer_secret='consumer_secret',\n",
    "                          access_token_key='access_token',```python\n",
    "                          access_token_secret='access_token_secret')\n",
    "```\n",
    "\n",
    "To see if your credentials are successful::\n",
    "\n",
    "```python\n",
    "    >>> print(api.VerifyCredentials())\n",
    "    {\"id\": 16133, \"location\": \"Philadelphia\", \"name\": \"bear\"}\n",
    "    \n",
    "```    \n",
    "\n",
    "**NOTE**: much more than the small sample given here will print\n",
    "\n",
    "To fetch a single user's public status messages, where ``user`` is a Twitter user's screen name::\n",
    "\n",
    "\n",
    "```python\n",
    "\n",
    "    >>> statuses = api.GetUserTimeline(screen_name=user)\n",
    "    >>> print([s.text for s in statuses])\n",
    "```         \n",
    "\n",
    "To fetch a list of a user's friends:  \n",
    "\n",
    "```python\n",
    "    >>> users = api.GetFriends()\n",
    "    >>> print([u.name for u in users])\n",
    "```\n",
    "\n",
    "To post a Twitter status message: \n",
    "\n",
    "```python\n",
    "    >>> status = api.PostUpdate('I love python-twitter!')\n",
    "    >>> print(status.text)\n",
    "    I love python-twitter!\n",
    "```    \n",
    "\n",
    "There are many more API methods, to read the full API documentation either\n",
    "check out the documentation on `readthedocs\n",
    "<https://python-twitter.readthedocs.io>`_, build the documentation locally\n",
    "with::\n",
    "\n",
    "```bash\n",
    "    $ make docs\n",
    "```\n",
    "\n",
    "or check out the inline documentation with::\n",
    "\n",
    "```bash\n",
    "    $ pydoc twitter.Api\n",
    "```"
   ]
  },
  {
   "cell_type": "code",
   "execution_count": 3,
   "metadata": {},
   "outputs": [],
   "source": [
    "# Check that python-twitter installed \n",
    "import twitter\n",
    "\n"
   ]
  },
  {
   "cell_type": "markdown",
   "metadata": {},
   "source": [
    "# pin-based token\n",
    "\n",
    "Note that this library also requires a pin-based token as as allows one to query for quite a bit of info.   \n",
    "\n",
    "```python\n",
    "api = twitter.Api(consumer_key='consumer_key',\n",
    "                      consumer_secret='consumer_secret',\n",
    "                      access_token_key='access_token',\n",
    "                      access_token_secret='access_token_secret')\n",
    "                      \n",
    "```\n",
    "\n",
    "I currently have an API key & secret but not a Access token & secret \n",
    "\n",
    "![Access token & secret](img/python-twitter_6.png)\n",
    "\n",
    "Generate a pin-based token [https://dev.twitter.com/oauth/pin-based](https://dev.twitter.com/oauth/pin-based)  \n",
    "\n"
   ]
  },
  {
   "cell_type": "code",
   "execution_count": 4,
   "metadata": {},
   "outputs": [
    {
     "data": {
      "text/plain": [
       "{'api_key': 'M1GeQr964TdZ82PipexeoCSMh',\n",
       " 'api_key_secret': 'uHCnBoIJ3Qg6m1yEOgkhmchbKwc7hxLsYoiilq1EELBzoAj1Lc',\n",
       " 'access_token': '34749634-bEwCfMxjZyXLOFgPkS6MecRlKYj0C4YwqHdmzTa50',\n",
       " 'access_token_secret': 'HG3RlELl2HAAFblcK7p0Ct2RVczdQ1I09rktmm9xzLCNN'}"
      ]
     },
     "execution_count": 4,
     "metadata": {},
     "output_type": "execute_result"
    }
   ],
   "source": [
    "twitter_keys =  {\n",
    "'api_key' : 'M1GeQr964TdZ82PipexeoCSMh',\n",
    "'api_key_secret' : 'uHCnBoIJ3Qg6m1yEOgkhmchbKwc7hxLsYoiilq1EELBzoAj1Lc',\n",
    "'access_token' : '34749634-bEwCfMxjZyXLOFgPkS6MecRlKYj0C4YwqHdmzTa50',\n",
    "'access_token_secret' : 'HG3RlELl2HAAFblcK7p0Ct2RVczdQ1I09rktmm9xzLCNN'\n",
    "}\n",
    "twitter_keys"
   ]
  },
  {
   "cell_type": "code",
   "execution_count": 5,
   "metadata": {},
   "outputs": [],
   "source": [
    "api = twitter.Api(consumer_key=twitter_keys['api_key'],\n",
    "                      consumer_secret=twitter_keys['api_key_secret'],\n",
    "                      access_token_key=twitter_keys['access_token'],\n",
    "                      access_token_secret=twitter_keys['access_token_secret'])"
   ]
  },
  {
   "cell_type": "code",
   "execution_count": 6,
   "metadata": {},
   "outputs": [
    {
     "name": "stdout",
     "output_type": "stream",
     "text": [
      "{\"created_at\": \"Thu Apr 23 22:15:37 +0000 2009\", \"description\": \"Northeastern University Engineering Professor in AI, ML, RL, DL, Visualization, and Games\\naka Bear\\naka Sin Cara Ojos Azules\\nPursue it. Relentlessly. #Nerdlife\", \"favourites_count\": 4218, \"followers_count\": 598, \"friends_count\": 722, \"geo_enabled\": true, \"id\": 34749634, \"id_str\": \"34749634\", \"listed_count\": 54, \"location\": \"Boston\", \"name\": \"Nik Bear Brown\", \"profile_background_color\": \"C0DEED\", \"profile_background_image_url\": \"http://abs.twimg.com/images/themes/theme1/bg.png\", \"profile_background_image_url_https\": \"https://abs.twimg.com/images/themes/theme1/bg.png\", \"profile_background_tile\": true, \"profile_banner_url\": \"https://pbs.twimg.com/profile_banners/34749634/1553389496\", \"profile_image_url\": \"http://pbs.twimg.com/profile_images/1325560081404997632/-DOzKiga_normal.jpg\", \"profile_image_url_https\": \"https://pbs.twimg.com/profile_images/1325560081404997632/-DOzKiga_normal.jpg\", \"profile_link_color\": \"4099FF\", \"profile_sidebar_border_color\": \"FFFFFF\", \"profile_sidebar_fill_color\": \"DDEEF6\", \"profile_text_color\": \"333333\", \"profile_use_background_image\": true, \"screen_name\": \"NikBearBrown\", \"status\": {\"created_at\": \"Sat Mar 13 04:07:47 +0000 2021\", \"favorite_count\": 2, \"id\": 1370587369175347203, \"id_str\": \"1370587369175347203\", \"lang\": \"en\", \"retweet_count\": 6, \"source\": \"<a href=\\\"https://mobile.twitter.com\\\" rel=\\\"nofollow\\\">Twitter Web App</a>\", \"text\": \"AI Skunkworks Speaker Session on \\\"Graph-Based Data Science\\\" by Paco Nathan Graphs #Knowledge\\u2026 https://t.co/Xsdo09e8Ok\", \"truncated\": true}, \"statuses_count\": 37519, \"url\": \"https://t.co/ZQ9sazeznI\"}\n"
     ]
    }
   ],
   "source": [
    "# To see if your credentials are successful:\n",
    "print(api.VerifyCredentials())"
   ]
  },
  {
   "cell_type": "markdown",
   "metadata": {},
   "source": [
    "To fetch a single user's public status messages, where user is a Twitter user's screen name like @nikbearbrown\n",
    "    "
   ]
  },
  {
   "cell_type": "code",
   "execution_count": 7,
   "metadata": {},
   "outputs": [
    {
     "data": {
      "text/plain": [
       "Status(ID=1370587369175347203, ScreenName=NikBearBrown, Created=Sat Mar 13 04:07:47 +0000 2021, Text='AI Skunkworks Speaker Session on \"Graph-Based Data Science\" by Paco Nathan Graphs #Knowledge… https://t.co/Xsdo09e8Ok')"
      ]
     },
     "execution_count": 7,
     "metadata": {},
     "output_type": "execute_result"
    }
   ],
   "source": [
    "user='nikbearbrown'\n",
    "statuses = api.GetUserTimeline(screen_name=user)\n",
    "statuses[0]"
   ]
  },
  {
   "cell_type": "markdown",
   "metadata": {},
   "source": [
    "# The python-twitter API returns each tweet as a Status object\n",
    "\n",
    "Note each Tweet is a status object. \n",
    "\n",
    "<class 'twitter.models.Status'>  \n",
    "\n",
    "Status(ID=1370587369175347203, ScreenName=NikBearBrown, Created=Sat Mar 13 04:07:47 +0000 2021, Text='AI Skunkworks Speaker Session on \"Graph-Based Data Science\" by Paco Nathan Graphs #Knowledge… https://t.co/Xsdo09e8Ok')  \n",
    "\n",
    "\n",
    "Python-twitter provides the following models of the objects returned by the Twitter API:  \n",
    "\n",
    "twitter.models.Category  \n",
    "twitter.models.DirectMessage  \n",
    "twitter.models.Hashtag  \n",
    "twitter.models.List  \n",
    "twitter.models.Media  \n",
    "twitter.models.Status  \n",
    "twitter.models.Trend  \n",
    "twitter.models.Url  \n",
    "twitter.models.User  \n",
    "twitter.models.UserStatus  "
   ]
  },
  {
   "cell_type": "code",
   "execution_count": 8,
   "metadata": {},
   "outputs": [
    {
     "name": "stdout",
     "output_type": "stream",
     "text": [
      "<class 'twitter.models.Status'>\n"
     ]
    }
   ],
   "source": [
    "print (type(statuses[0]))"
   ]
  },
  {
   "cell_type": "code",
   "execution_count": 9,
   "metadata": {},
   "outputs": [
    {
     "name": "stdout",
     "output_type": "stream",
     "text": [
      "AI Skunkworks Speaker Session on \"Graph-Based Data Science\" by Paco Nathan Graphs #Knowledge… https://t.co/Xsdo09e8Ok  None\n",
      "AI Skunkworks Speaker Session with Jacopo Tagliabue, Lead AI Scientist at Coveo #Coveo #GreatTalk   https://t.co/GaTQATl3ym  None\n",
      "An Etsy shop is selling my artwork. Four of my robots are part of a clipart pack. I don't whether to be pissed or f… https://t.co/wsWnjtLJea  None\n",
      "RT @Coach_Yac: 🗣 Pay Jason Verrett @49ers https://t.co/1YngpcjmWk  None\n",
      "Everything to know about the Unity PARTICLE SYSTEM https://t.co/D4GLO4kvy5  None\n",
      "Texas Won't Reduce $16 Billion In Electricity Charges From Winter Storm https://t.co/UsN7MUwlKx  None\n",
      "@elkandelk @DatBoyInc I'll cancel Netflix if I ever get that message.  None\n",
      "@THR I'll cancel Netflix if I ever get that message.  None\n",
      "Man coaxes nest of 6 cute baby bunnies out from his garden https://t.co/dPa9o9osSt  None\n",
      "First Ever Space Hurricane Spotted in Earth's Upper Atmosphere https://t.co/wI0b391RCV  None\n",
      "Gen Z’s high-speed rail meme dream, explained  https://t.co/6uX1cqkOar  None\n",
      "A very challenging image classification task.  #deeplearning #cnn #convolutionalneuralnetwork https://t.co/7jmkilpf8a  None\n",
      "RT @Mara_Webster: John Oliver knew all along...... #OprahMeghanHarry https://t.co/cjxajEFwJM  None\n",
      "Building Effects with Niagara and Blueprint | GDC 2019 | Unreal Engine https://t.co/hNzfah2dIN  None\n",
      "Unity 5 - Game Effects VFX - Fireball Spell / Projectile https://t.co/FK7dpLlKNV  None\n",
      "Unreal Engine 4 Particles - Cascade - Intro &amp; Fireball https://t.co/JJK5L0LFs2  None\n",
      "Bird Flock Crow Demo https://t.co/JwVRDxGEy6  None\n",
      "Harry and Meghan: The union of two great houses, the Windsors and the Celebrities is complete https://t.co/20FCaBkURC via @IrishTimesCultr  None\n",
      "Love this!!!  Avery Roberson Intimately Sings Tim McGraw's \"If You're Reading This\" - #TheVoice  https://t.co/L5yJY4PQSA  None\n",
      "How does anyone in the UK still defend having \"royals?\"  In Britain, lips quickly unstiffen with criticism of Megha… https://t.co/GCcg7S0hJg  None\n"
     ]
    }
   ],
   "source": [
    "# print the Tweet Text\n",
    "for s in statuses:\n",
    "    print (f\"{s.text}  {s.full_text}\")"
   ]
  },
  {
   "cell_type": "markdown",
   "metadata": {},
   "source": [
    "# What info can we get from a Tweet status object?\n",
    "\n",
    "In python we can ask an object to tell us its methods and member variables. \n",
    "\n",
    "Those with underscores are functions.\n",
    "\n",
    "\n",
    "'__doc__',\n",
    " '__eq__',\n",
    " '__format__',\n",
    " '__ge__',\n",
    " \n",
    " and those without are member variables.\n",
    " \n",
    "  'source',\n",
    " 'text',\n",
    " 'truncated',\n",
    " 'tweet_mode',\n",
    " 'urls',\n",
    " 'user'"
   ]
  },
  {
   "cell_type": "code",
   "execution_count": 10,
   "metadata": {},
   "outputs": [
    {
     "data": {
      "text/plain": [
       "['AsDict',\n",
       " 'AsJsonString',\n",
       " 'NewFromJsonDict',\n",
       " '__class__',\n",
       " '__delattr__',\n",
       " '__dict__',\n",
       " '__dir__',\n",
       " '__doc__',\n",
       " '__eq__',\n",
       " '__format__',\n",
       " '__ge__',\n",
       " '__getattribute__',\n",
       " '__gt__',\n",
       " '__hash__',\n",
       " '__init__',\n",
       " '__init_subclass__',\n",
       " '__le__',\n",
       " '__lt__',\n",
       " '__module__',\n",
       " '__ne__',\n",
       " '__new__',\n",
       " '__reduce__',\n",
       " '__reduce_ex__',\n",
       " '__repr__',\n",
       " '__setattr__',\n",
       " '__sizeof__',\n",
       " '__str__',\n",
       " '__subclasshook__',\n",
       " '__weakref__',\n",
       " '_json',\n",
       " 'contributors',\n",
       " 'coordinates',\n",
       " 'created_at',\n",
       " 'created_at_in_seconds',\n",
       " 'current_user_retweet',\n",
       " 'favorite_count',\n",
       " 'favorited',\n",
       " 'full_text',\n",
       " 'geo',\n",
       " 'hashtags',\n",
       " 'id',\n",
       " 'id_str',\n",
       " 'in_reply_to_screen_name',\n",
       " 'in_reply_to_status_id',\n",
       " 'in_reply_to_user_id',\n",
       " 'lang',\n",
       " 'location',\n",
       " 'media',\n",
       " 'param_defaults',\n",
       " 'place',\n",
       " 'possibly_sensitive',\n",
       " 'quoted_status',\n",
       " 'quoted_status_id',\n",
       " 'quoted_status_id_str',\n",
       " 'retweet_count',\n",
       " 'retweeted',\n",
       " 'retweeted_status',\n",
       " 'scopes',\n",
       " 'source',\n",
       " 'text',\n",
       " 'truncated',\n",
       " 'tweet_mode',\n",
       " 'urls',\n",
       " 'user',\n",
       " 'user_mentions',\n",
       " 'withheld_copyright',\n",
       " 'withheld_in_countries',\n",
       " 'withheld_scope']"
      ]
     },
     "execution_count": 10,
     "metadata": {},
     "output_type": "execute_result"
    }
   ],
   "source": [
    "dir(statuses[0])"
   ]
  },
  {
   "cell_type": "markdown",
   "metadata": {},
   "source": [
    "# Reading the docs\n",
    "\n",
    "To read the documentation for any of these models, run:  \n",
    "\n",
    "```bash\n",
    "\n",
    "    $ pydoc twitter.[model]  \n",
    "```\n",
    " such as\n",
    " \n",
    " \n",
    " ```bash\n",
    "\n",
    "    $ pydoc twitter.models.Status  \n",
    "    \n",
    "```\n",
    " \n",
    "or read them online [https://python-twitter.readthedocs.io](https://python-twitter.readthedocs.io)  such as [https://python-twitter.readthedocs.io/en/latest/_modules/twitter/models.html](https://python-twitter.readthedocs.io/en/latest/_modules/twitter/models.html)   \n",
    "\n",
    "\n",
    "_Note that different member variables can have different datatypes._ \n",
    "\n"
   ]
  },
  {
   "cell_type": "code",
   "execution_count": 11,
   "metadata": {},
   "outputs": [
    {
     "name": "stdout",
     "output_type": "stream",
     "text": [
      "AI Skunkworks Speaker Session on \"Graph-Based Data Science\" by Paco Nathan Graphs #Knowledge… https://t.co/Xsdo09e8Ok Language: en\n",
      "AI Skunkworks Speaker Session with Jacopo Tagliabue, Lead AI Scientist at Coveo #Coveo #GreatTalk   https://t.co/GaTQATl3ym Language: en\n",
      "An Etsy shop is selling my artwork. Four of my robots are part of a clipart pack. I don't whether to be pissed or f… https://t.co/wsWnjtLJea Language: en\n",
      "RT @Coach_Yac: 🗣 Pay Jason Verrett @49ers https://t.co/1YngpcjmWk Language: en\n",
      "Everything to know about the Unity PARTICLE SYSTEM https://t.co/D4GLO4kvy5 Language: en\n",
      "Texas Won't Reduce $16 Billion In Electricity Charges From Winter Storm https://t.co/UsN7MUwlKx Language: en\n",
      "@elkandelk @DatBoyInc I'll cancel Netflix if I ever get that message. Language: en\n",
      "@THR I'll cancel Netflix if I ever get that message. Language: en\n",
      "Man coaxes nest of 6 cute baby bunnies out from his garden https://t.co/dPa9o9osSt Language: en\n",
      "First Ever Space Hurricane Spotted in Earth's Upper Atmosphere https://t.co/wI0b391RCV Language: en\n",
      "Gen Z’s high-speed rail meme dream, explained  https://t.co/6uX1cqkOar Language: en\n",
      "A very challenging image classification task.  #deeplearning #cnn #convolutionalneuralnetwork https://t.co/7jmkilpf8a Language: en\n",
      "RT @Mara_Webster: John Oliver knew all along...... #OprahMeghanHarry https://t.co/cjxajEFwJM Language: en\n",
      "Building Effects with Niagara and Blueprint | GDC 2019 | Unreal Engine https://t.co/hNzfah2dIN Language: en\n",
      "Unity 5 - Game Effects VFX - Fireball Spell / Projectile https://t.co/FK7dpLlKNV Language: en\n",
      "Unreal Engine 4 Particles - Cascade - Intro &amp; Fireball https://t.co/JJK5L0LFs2 Language: ca\n",
      "Bird Flock Crow Demo https://t.co/JwVRDxGEy6 Language: en\n",
      "Harry and Meghan: The union of two great houses, the Windsors and the Celebrities is complete https://t.co/20FCaBkURC via @IrishTimesCultr Language: en\n",
      "Love this!!!  Avery Roberson Intimately Sings Tim McGraw's \"If You're Reading This\" - #TheVoice  https://t.co/L5yJY4PQSA Language: en\n",
      "How does anyone in the UK still defend having \"royals?\"  In Britain, lips quickly unstiffen with criticism of Megha… https://t.co/GCcg7S0hJg Language: en\n"
     ]
    }
   ],
   "source": [
    "for s in statuses:\n",
    "    if s.full_text is not None:\n",
    "        print(f\"{s.full_text} Language: {s.lang}\")\n",
    "    else:\n",
    "        print(f\"{s.text} Language: {s.lang}\")"
   ]
  },
  {
   "cell_type": "code",
   "execution_count": 12,
   "metadata": {},
   "outputs": [
    {
     "data": {
      "text/plain": [
       "User(ID=34749634, ScreenName=NikBearBrown)"
      ]
     },
     "execution_count": 12,
     "metadata": {},
     "output_type": "execute_result"
    }
   ],
   "source": [
    "statuses[0].user"
   ]
  },
  {
   "cell_type": "code",
   "execution_count": 13,
   "metadata": {},
   "outputs": [
    {
     "name": "stdout",
     "output_type": "stream",
     "text": [
      "{\"created_at\": \"Thu Apr 23 22:15:37 +0000 2009\", \"description\": \"Northeastern University Engineering Professor in AI, ML, RL, DL, Visualization, and Games\\naka Bear\\naka Sin Cara Ojos Azules\\nPursue it. Relentlessly. #Nerdlife\", \"favourites_count\": 4218, \"followers_count\": 598, \"friends_count\": 722, \"geo_enabled\": true, \"id\": 34749634, \"id_str\": \"34749634\", \"listed_count\": 54, \"location\": \"Boston\", \"name\": \"Nik Bear Brown\", \"profile_background_color\": \"C0DEED\", \"profile_background_image_url\": \"http://abs.twimg.com/images/themes/theme1/bg.png\", \"profile_background_image_url_https\": \"https://abs.twimg.com/images/themes/theme1/bg.png\", \"profile_background_tile\": true, \"profile_banner_url\": \"https://pbs.twimg.com/profile_banners/34749634/1553389496\", \"profile_image_url\": \"http://pbs.twimg.com/profile_images/1325560081404997632/-DOzKiga_normal.jpg\", \"profile_image_url_https\": \"https://pbs.twimg.com/profile_images/1325560081404997632/-DOzKiga_normal.jpg\", \"profile_link_color\": \"4099FF\", \"profile_sidebar_border_color\": \"FFFFFF\", \"profile_sidebar_fill_color\": \"DDEEF6\", \"profile_text_color\": \"333333\", \"profile_use_background_image\": true, \"screen_name\": \"NikBearBrown\", \"statuses_count\": 37519, \"url\": \"https://t.co/ZQ9sazeznI\"}\n",
      "{\"created_at\": \"Thu Apr 23 22:15:37 +0000 2009\", \"description\": \"Northeastern University Engineering Professor in AI, ML, RL, DL, Visualization, and Games\\naka Bear\\naka Sin Cara Ojos Azules\\nPursue it. Relentlessly. #Nerdlife\", \"favourites_count\": 4218, \"followers_count\": 598, \"friends_count\": 722, \"geo_enabled\": true, \"id\": 34749634, \"id_str\": \"34749634\", \"listed_count\": 54, \"location\": \"Boston\", \"name\": \"Nik Bear Brown\", \"profile_background_color\": \"C0DEED\", \"profile_background_image_url\": \"http://abs.twimg.com/images/themes/theme1/bg.png\", \"profile_background_image_url_https\": \"https://abs.twimg.com/images/themes/theme1/bg.png\", \"profile_background_tile\": true, \"profile_banner_url\": \"https://pbs.twimg.com/profile_banners/34749634/1553389496\", \"profile_image_url\": \"http://pbs.twimg.com/profile_images/1325560081404997632/-DOzKiga_normal.jpg\", \"profile_image_url_https\": \"https://pbs.twimg.com/profile_images/1325560081404997632/-DOzKiga_normal.jpg\", \"profile_link_color\": \"4099FF\", \"profile_sidebar_border_color\": \"FFFFFF\", \"profile_sidebar_fill_color\": \"DDEEF6\", \"profile_text_color\": \"333333\", \"profile_use_background_image\": true, \"screen_name\": \"NikBearBrown\", \"statuses_count\": 37519, \"url\": \"https://t.co/ZQ9sazeznI\"}\n",
      "{\"created_at\": \"Thu Apr 23 22:15:37 +0000 2009\", \"description\": \"Northeastern University Engineering Professor in AI, ML, RL, DL, Visualization, and Games\\naka Bear\\naka Sin Cara Ojos Azules\\nPursue it. Relentlessly. #Nerdlife\", \"favourites_count\": 4218, \"followers_count\": 598, \"friends_count\": 722, \"geo_enabled\": true, \"id\": 34749634, \"id_str\": \"34749634\", \"listed_count\": 54, \"location\": \"Boston\", \"name\": \"Nik Bear Brown\", \"profile_background_color\": \"C0DEED\", \"profile_background_image_url\": \"http://abs.twimg.com/images/themes/theme1/bg.png\", \"profile_background_image_url_https\": \"https://abs.twimg.com/images/themes/theme1/bg.png\", \"profile_background_tile\": true, \"profile_banner_url\": \"https://pbs.twimg.com/profile_banners/34749634/1553389496\", \"profile_image_url\": \"http://pbs.twimg.com/profile_images/1325560081404997632/-DOzKiga_normal.jpg\", \"profile_image_url_https\": \"https://pbs.twimg.com/profile_images/1325560081404997632/-DOzKiga_normal.jpg\", \"profile_link_color\": \"4099FF\", \"profile_sidebar_border_color\": \"FFFFFF\", \"profile_sidebar_fill_color\": \"DDEEF6\", \"profile_text_color\": \"333333\", \"profile_use_background_image\": true, \"screen_name\": \"NikBearBrown\", \"statuses_count\": 37519, \"url\": \"https://t.co/ZQ9sazeznI\"}\n",
      "{\"created_at\": \"Thu Apr 23 22:15:37 +0000 2009\", \"description\": \"Northeastern University Engineering Professor in AI, ML, RL, DL, Visualization, and Games\\naka Bear\\naka Sin Cara Ojos Azules\\nPursue it. Relentlessly. #Nerdlife\", \"favourites_count\": 4218, \"followers_count\": 598, \"friends_count\": 722, \"geo_enabled\": true, \"id\": 34749634, \"id_str\": \"34749634\", \"listed_count\": 54, \"location\": \"Boston\", \"name\": \"Nik Bear Brown\", \"profile_background_color\": \"C0DEED\", \"profile_background_image_url\": \"http://abs.twimg.com/images/themes/theme1/bg.png\", \"profile_background_image_url_https\": \"https://abs.twimg.com/images/themes/theme1/bg.png\", \"profile_background_tile\": true, \"profile_banner_url\": \"https://pbs.twimg.com/profile_banners/34749634/1553389496\", \"profile_image_url\": \"http://pbs.twimg.com/profile_images/1325560081404997632/-DOzKiga_normal.jpg\", \"profile_image_url_https\": \"https://pbs.twimg.com/profile_images/1325560081404997632/-DOzKiga_normal.jpg\", \"profile_link_color\": \"4099FF\", \"profile_sidebar_border_color\": \"FFFFFF\", \"profile_sidebar_fill_color\": \"DDEEF6\", \"profile_text_color\": \"333333\", \"profile_use_background_image\": true, \"screen_name\": \"NikBearBrown\", \"statuses_count\": 37519, \"url\": \"https://t.co/ZQ9sazeznI\"}\n",
      "{\"created_at\": \"Thu Apr 23 22:15:37 +0000 2009\", \"description\": \"Northeastern University Engineering Professor in AI, ML, RL, DL, Visualization, and Games\\naka Bear\\naka Sin Cara Ojos Azules\\nPursue it. Relentlessly. #Nerdlife\", \"favourites_count\": 4218, \"followers_count\": 598, \"friends_count\": 722, \"geo_enabled\": true, \"id\": 34749634, \"id_str\": \"34749634\", \"listed_count\": 54, \"location\": \"Boston\", \"name\": \"Nik Bear Brown\", \"profile_background_color\": \"C0DEED\", \"profile_background_image_url\": \"http://abs.twimg.com/images/themes/theme1/bg.png\", \"profile_background_image_url_https\": \"https://abs.twimg.com/images/themes/theme1/bg.png\", \"profile_background_tile\": true, \"profile_banner_url\": \"https://pbs.twimg.com/profile_banners/34749634/1553389496\", \"profile_image_url\": \"http://pbs.twimg.com/profile_images/1325560081404997632/-DOzKiga_normal.jpg\", \"profile_image_url_https\": \"https://pbs.twimg.com/profile_images/1325560081404997632/-DOzKiga_normal.jpg\", \"profile_link_color\": \"4099FF\", \"profile_sidebar_border_color\": \"FFFFFF\", \"profile_sidebar_fill_color\": \"DDEEF6\", \"profile_text_color\": \"333333\", \"profile_use_background_image\": true, \"screen_name\": \"NikBearBrown\", \"statuses_count\": 37519, \"url\": \"https://t.co/ZQ9sazeznI\"}\n",
      "{\"created_at\": \"Thu Apr 23 22:15:37 +0000 2009\", \"description\": \"Northeastern University Engineering Professor in AI, ML, RL, DL, Visualization, and Games\\naka Bear\\naka Sin Cara Ojos Azules\\nPursue it. Relentlessly. #Nerdlife\", \"favourites_count\": 4218, \"followers_count\": 598, \"friends_count\": 722, \"geo_enabled\": true, \"id\": 34749634, \"id_str\": \"34749634\", \"listed_count\": 54, \"location\": \"Boston\", \"name\": \"Nik Bear Brown\", \"profile_background_color\": \"C0DEED\", \"profile_background_image_url\": \"http://abs.twimg.com/images/themes/theme1/bg.png\", \"profile_background_image_url_https\": \"https://abs.twimg.com/images/themes/theme1/bg.png\", \"profile_background_tile\": true, \"profile_banner_url\": \"https://pbs.twimg.com/profile_banners/34749634/1553389496\", \"profile_image_url\": \"http://pbs.twimg.com/profile_images/1325560081404997632/-DOzKiga_normal.jpg\", \"profile_image_url_https\": \"https://pbs.twimg.com/profile_images/1325560081404997632/-DOzKiga_normal.jpg\", \"profile_link_color\": \"4099FF\", \"profile_sidebar_border_color\": \"FFFFFF\", \"profile_sidebar_fill_color\": \"DDEEF6\", \"profile_text_color\": \"333333\", \"profile_use_background_image\": true, \"screen_name\": \"NikBearBrown\", \"statuses_count\": 37519, \"url\": \"https://t.co/ZQ9sazeznI\"}\n",
      "{\"created_at\": \"Thu Apr 23 22:15:37 +0000 2009\", \"description\": \"Northeastern University Engineering Professor in AI, ML, RL, DL, Visualization, and Games\\naka Bear\\naka Sin Cara Ojos Azules\\nPursue it. Relentlessly. #Nerdlife\", \"favourites_count\": 4218, \"followers_count\": 598, \"friends_count\": 722, \"geo_enabled\": true, \"id\": 34749634, \"id_str\": \"34749634\", \"listed_count\": 54, \"location\": \"Boston\", \"name\": \"Nik Bear Brown\", \"profile_background_color\": \"C0DEED\", \"profile_background_image_url\": \"http://abs.twimg.com/images/themes/theme1/bg.png\", \"profile_background_image_url_https\": \"https://abs.twimg.com/images/themes/theme1/bg.png\", \"profile_background_tile\": true, \"profile_banner_url\": \"https://pbs.twimg.com/profile_banners/34749634/1553389496\", \"profile_image_url\": \"http://pbs.twimg.com/profile_images/1325560081404997632/-DOzKiga_normal.jpg\", \"profile_image_url_https\": \"https://pbs.twimg.com/profile_images/1325560081404997632/-DOzKiga_normal.jpg\", \"profile_link_color\": \"4099FF\", \"profile_sidebar_border_color\": \"FFFFFF\", \"profile_sidebar_fill_color\": \"DDEEF6\", \"profile_text_color\": \"333333\", \"profile_use_background_image\": true, \"screen_name\": \"NikBearBrown\", \"statuses_count\": 37519, \"url\": \"https://t.co/ZQ9sazeznI\"}\n",
      "{\"created_at\": \"Thu Apr 23 22:15:37 +0000 2009\", \"description\": \"Northeastern University Engineering Professor in AI, ML, RL, DL, Visualization, and Games\\naka Bear\\naka Sin Cara Ojos Azules\\nPursue it. Relentlessly. #Nerdlife\", \"favourites_count\": 4218, \"followers_count\": 598, \"friends_count\": 722, \"geo_enabled\": true, \"id\": 34749634, \"id_str\": \"34749634\", \"listed_count\": 54, \"location\": \"Boston\", \"name\": \"Nik Bear Brown\", \"profile_background_color\": \"C0DEED\", \"profile_background_image_url\": \"http://abs.twimg.com/images/themes/theme1/bg.png\", \"profile_background_image_url_https\": \"https://abs.twimg.com/images/themes/theme1/bg.png\", \"profile_background_tile\": true, \"profile_banner_url\": \"https://pbs.twimg.com/profile_banners/34749634/1553389496\", \"profile_image_url\": \"http://pbs.twimg.com/profile_images/1325560081404997632/-DOzKiga_normal.jpg\", \"profile_image_url_https\": \"https://pbs.twimg.com/profile_images/1325560081404997632/-DOzKiga_normal.jpg\", \"profile_link_color\": \"4099FF\", \"profile_sidebar_border_color\": \"FFFFFF\", \"profile_sidebar_fill_color\": \"DDEEF6\", \"profile_text_color\": \"333333\", \"profile_use_background_image\": true, \"screen_name\": \"NikBearBrown\", \"statuses_count\": 37519, \"url\": \"https://t.co/ZQ9sazeznI\"}\n",
      "{\"created_at\": \"Thu Apr 23 22:15:37 +0000 2009\", \"description\": \"Northeastern University Engineering Professor in AI, ML, RL, DL, Visualization, and Games\\naka Bear\\naka Sin Cara Ojos Azules\\nPursue it. Relentlessly. #Nerdlife\", \"favourites_count\": 4218, \"followers_count\": 598, \"friends_count\": 722, \"geo_enabled\": true, \"id\": 34749634, \"id_str\": \"34749634\", \"listed_count\": 54, \"location\": \"Boston\", \"name\": \"Nik Bear Brown\", \"profile_background_color\": \"C0DEED\", \"profile_background_image_url\": \"http://abs.twimg.com/images/themes/theme1/bg.png\", \"profile_background_image_url_https\": \"https://abs.twimg.com/images/themes/theme1/bg.png\", \"profile_background_tile\": true, \"profile_banner_url\": \"https://pbs.twimg.com/profile_banners/34749634/1553389496\", \"profile_image_url\": \"http://pbs.twimg.com/profile_images/1325560081404997632/-DOzKiga_normal.jpg\", \"profile_image_url_https\": \"https://pbs.twimg.com/profile_images/1325560081404997632/-DOzKiga_normal.jpg\", \"profile_link_color\": \"4099FF\", \"profile_sidebar_border_color\": \"FFFFFF\", \"profile_sidebar_fill_color\": \"DDEEF6\", \"profile_text_color\": \"333333\", \"profile_use_background_image\": true, \"screen_name\": \"NikBearBrown\", \"statuses_count\": 37519, \"url\": \"https://t.co/ZQ9sazeznI\"}\n",
      "{\"created_at\": \"Thu Apr 23 22:15:37 +0000 2009\", \"description\": \"Northeastern University Engineering Professor in AI, ML, RL, DL, Visualization, and Games\\naka Bear\\naka Sin Cara Ojos Azules\\nPursue it. Relentlessly. #Nerdlife\", \"favourites_count\": 4218, \"followers_count\": 598, \"friends_count\": 722, \"geo_enabled\": true, \"id\": 34749634, \"id_str\": \"34749634\", \"listed_count\": 54, \"location\": \"Boston\", \"name\": \"Nik Bear Brown\", \"profile_background_color\": \"C0DEED\", \"profile_background_image_url\": \"http://abs.twimg.com/images/themes/theme1/bg.png\", \"profile_background_image_url_https\": \"https://abs.twimg.com/images/themes/theme1/bg.png\", \"profile_background_tile\": true, \"profile_banner_url\": \"https://pbs.twimg.com/profile_banners/34749634/1553389496\", \"profile_image_url\": \"http://pbs.twimg.com/profile_images/1325560081404997632/-DOzKiga_normal.jpg\", \"profile_image_url_https\": \"https://pbs.twimg.com/profile_images/1325560081404997632/-DOzKiga_normal.jpg\", \"profile_link_color\": \"4099FF\", \"profile_sidebar_border_color\": \"FFFFFF\", \"profile_sidebar_fill_color\": \"DDEEF6\", \"profile_text_color\": \"333333\", \"profile_use_background_image\": true, \"screen_name\": \"NikBearBrown\", \"statuses_count\": 37519, \"url\": \"https://t.co/ZQ9sazeznI\"}\n",
      "{\"created_at\": \"Thu Apr 23 22:15:37 +0000 2009\", \"description\": \"Northeastern University Engineering Professor in AI, ML, RL, DL, Visualization, and Games\\naka Bear\\naka Sin Cara Ojos Azules\\nPursue it. Relentlessly. #Nerdlife\", \"favourites_count\": 4218, \"followers_count\": 598, \"friends_count\": 722, \"geo_enabled\": true, \"id\": 34749634, \"id_str\": \"34749634\", \"listed_count\": 54, \"location\": \"Boston\", \"name\": \"Nik Bear Brown\", \"profile_background_color\": \"C0DEED\", \"profile_background_image_url\": \"http://abs.twimg.com/images/themes/theme1/bg.png\", \"profile_background_image_url_https\": \"https://abs.twimg.com/images/themes/theme1/bg.png\", \"profile_background_tile\": true, \"profile_banner_url\": \"https://pbs.twimg.com/profile_banners/34749634/1553389496\", \"profile_image_url\": \"http://pbs.twimg.com/profile_images/1325560081404997632/-DOzKiga_normal.jpg\", \"profile_image_url_https\": \"https://pbs.twimg.com/profile_images/1325560081404997632/-DOzKiga_normal.jpg\", \"profile_link_color\": \"4099FF\", \"profile_sidebar_border_color\": \"FFFFFF\", \"profile_sidebar_fill_color\": \"DDEEF6\", \"profile_text_color\": \"333333\", \"profile_use_background_image\": true, \"screen_name\": \"NikBearBrown\", \"statuses_count\": 37519, \"url\": \"https://t.co/ZQ9sazeznI\"}\n",
      "{\"created_at\": \"Thu Apr 23 22:15:37 +0000 2009\", \"description\": \"Northeastern University Engineering Professor in AI, ML, RL, DL, Visualization, and Games\\naka Bear\\naka Sin Cara Ojos Azules\\nPursue it. Relentlessly. #Nerdlife\", \"favourites_count\": 4218, \"followers_count\": 598, \"friends_count\": 722, \"geo_enabled\": true, \"id\": 34749634, \"id_str\": \"34749634\", \"listed_count\": 54, \"location\": \"Boston\", \"name\": \"Nik Bear Brown\", \"profile_background_color\": \"C0DEED\", \"profile_background_image_url\": \"http://abs.twimg.com/images/themes/theme1/bg.png\", \"profile_background_image_url_https\": \"https://abs.twimg.com/images/themes/theme1/bg.png\", \"profile_background_tile\": true, \"profile_banner_url\": \"https://pbs.twimg.com/profile_banners/34749634/1553389496\", \"profile_image_url\": \"http://pbs.twimg.com/profile_images/1325560081404997632/-DOzKiga_normal.jpg\", \"profile_image_url_https\": \"https://pbs.twimg.com/profile_images/1325560081404997632/-DOzKiga_normal.jpg\", \"profile_link_color\": \"4099FF\", \"profile_sidebar_border_color\": \"FFFFFF\", \"profile_sidebar_fill_color\": \"DDEEF6\", \"profile_text_color\": \"333333\", \"profile_use_background_image\": true, \"screen_name\": \"NikBearBrown\", \"statuses_count\": 37519, \"url\": \"https://t.co/ZQ9sazeznI\"}\n",
      "{\"created_at\": \"Thu Apr 23 22:15:37 +0000 2009\", \"description\": \"Northeastern University Engineering Professor in AI, ML, RL, DL, Visualization, and Games\\naka Bear\\naka Sin Cara Ojos Azules\\nPursue it. Relentlessly. #Nerdlife\", \"favourites_count\": 4218, \"followers_count\": 598, \"friends_count\": 722, \"geo_enabled\": true, \"id\": 34749634, \"id_str\": \"34749634\", \"listed_count\": 54, \"location\": \"Boston\", \"name\": \"Nik Bear Brown\", \"profile_background_color\": \"C0DEED\", \"profile_background_image_url\": \"http://abs.twimg.com/images/themes/theme1/bg.png\", \"profile_background_image_url_https\": \"https://abs.twimg.com/images/themes/theme1/bg.png\", \"profile_background_tile\": true, \"profile_banner_url\": \"https://pbs.twimg.com/profile_banners/34749634/1553389496\", \"profile_image_url\": \"http://pbs.twimg.com/profile_images/1325560081404997632/-DOzKiga_normal.jpg\", \"profile_image_url_https\": \"https://pbs.twimg.com/profile_images/1325560081404997632/-DOzKiga_normal.jpg\", \"profile_link_color\": \"4099FF\", \"profile_sidebar_border_color\": \"FFFFFF\", \"profile_sidebar_fill_color\": \"DDEEF6\", \"profile_text_color\": \"333333\", \"profile_use_background_image\": true, \"screen_name\": \"NikBearBrown\", \"statuses_count\": 37519, \"url\": \"https://t.co/ZQ9sazeznI\"}\n",
      "{\"created_at\": \"Thu Apr 23 22:15:37 +0000 2009\", \"description\": \"Northeastern University Engineering Professor in AI, ML, RL, DL, Visualization, and Games\\naka Bear\\naka Sin Cara Ojos Azules\\nPursue it. Relentlessly. #Nerdlife\", \"favourites_count\": 4218, \"followers_count\": 598, \"friends_count\": 722, \"geo_enabled\": true, \"id\": 34749634, \"id_str\": \"34749634\", \"listed_count\": 54, \"location\": \"Boston\", \"name\": \"Nik Bear Brown\", \"profile_background_color\": \"C0DEED\", \"profile_background_image_url\": \"http://abs.twimg.com/images/themes/theme1/bg.png\", \"profile_background_image_url_https\": \"https://abs.twimg.com/images/themes/theme1/bg.png\", \"profile_background_tile\": true, \"profile_banner_url\": \"https://pbs.twimg.com/profile_banners/34749634/1553389496\", \"profile_image_url\": \"http://pbs.twimg.com/profile_images/1325560081404997632/-DOzKiga_normal.jpg\", \"profile_image_url_https\": \"https://pbs.twimg.com/profile_images/1325560081404997632/-DOzKiga_normal.jpg\", \"profile_link_color\": \"4099FF\", \"profile_sidebar_border_color\": \"FFFFFF\", \"profile_sidebar_fill_color\": \"DDEEF6\", \"profile_text_color\": \"333333\", \"profile_use_background_image\": true, \"screen_name\": \"NikBearBrown\", \"statuses_count\": 37519, \"url\": \"https://t.co/ZQ9sazeznI\"}\n",
      "{\"created_at\": \"Thu Apr 23 22:15:37 +0000 2009\", \"description\": \"Northeastern University Engineering Professor in AI, ML, RL, DL, Visualization, and Games\\naka Bear\\naka Sin Cara Ojos Azules\\nPursue it. Relentlessly. #Nerdlife\", \"favourites_count\": 4218, \"followers_count\": 598, \"friends_count\": 722, \"geo_enabled\": true, \"id\": 34749634, \"id_str\": \"34749634\", \"listed_count\": 54, \"location\": \"Boston\", \"name\": \"Nik Bear Brown\", \"profile_background_color\": \"C0DEED\", \"profile_background_image_url\": \"http://abs.twimg.com/images/themes/theme1/bg.png\", \"profile_background_image_url_https\": \"https://abs.twimg.com/images/themes/theme1/bg.png\", \"profile_background_tile\": true, \"profile_banner_url\": \"https://pbs.twimg.com/profile_banners/34749634/1553389496\", \"profile_image_url\": \"http://pbs.twimg.com/profile_images/1325560081404997632/-DOzKiga_normal.jpg\", \"profile_image_url_https\": \"https://pbs.twimg.com/profile_images/1325560081404997632/-DOzKiga_normal.jpg\", \"profile_link_color\": \"4099FF\", \"profile_sidebar_border_color\": \"FFFFFF\", \"profile_sidebar_fill_color\": \"DDEEF6\", \"profile_text_color\": \"333333\", \"profile_use_background_image\": true, \"screen_name\": \"NikBearBrown\", \"statuses_count\": 37519, \"url\": \"https://t.co/ZQ9sazeznI\"}\n",
      "{\"created_at\": \"Thu Apr 23 22:15:37 +0000 2009\", \"description\": \"Northeastern University Engineering Professor in AI, ML, RL, DL, Visualization, and Games\\naka Bear\\naka Sin Cara Ojos Azules\\nPursue it. Relentlessly. #Nerdlife\", \"favourites_count\": 4218, \"followers_count\": 598, \"friends_count\": 722, \"geo_enabled\": true, \"id\": 34749634, \"id_str\": \"34749634\", \"listed_count\": 54, \"location\": \"Boston\", \"name\": \"Nik Bear Brown\", \"profile_background_color\": \"C0DEED\", \"profile_background_image_url\": \"http://abs.twimg.com/images/themes/theme1/bg.png\", \"profile_background_image_url_https\": \"https://abs.twimg.com/images/themes/theme1/bg.png\", \"profile_background_tile\": true, \"profile_banner_url\": \"https://pbs.twimg.com/profile_banners/34749634/1553389496\", \"profile_image_url\": \"http://pbs.twimg.com/profile_images/1325560081404997632/-DOzKiga_normal.jpg\", \"profile_image_url_https\": \"https://pbs.twimg.com/profile_images/1325560081404997632/-DOzKiga_normal.jpg\", \"profile_link_color\": \"4099FF\", \"profile_sidebar_border_color\": \"FFFFFF\", \"profile_sidebar_fill_color\": \"DDEEF6\", \"profile_text_color\": \"333333\", \"profile_use_background_image\": true, \"screen_name\": \"NikBearBrown\", \"statuses_count\": 37519, \"url\": \"https://t.co/ZQ9sazeznI\"}\n",
      "{\"created_at\": \"Thu Apr 23 22:15:37 +0000 2009\", \"description\": \"Northeastern University Engineering Professor in AI, ML, RL, DL, Visualization, and Games\\naka Bear\\naka Sin Cara Ojos Azules\\nPursue it. Relentlessly. #Nerdlife\", \"favourites_count\": 4218, \"followers_count\": 598, \"friends_count\": 722, \"geo_enabled\": true, \"id\": 34749634, \"id_str\": \"34749634\", \"listed_count\": 54, \"location\": \"Boston\", \"name\": \"Nik Bear Brown\", \"profile_background_color\": \"C0DEED\", \"profile_background_image_url\": \"http://abs.twimg.com/images/themes/theme1/bg.png\", \"profile_background_image_url_https\": \"https://abs.twimg.com/images/themes/theme1/bg.png\", \"profile_background_tile\": true, \"profile_banner_url\": \"https://pbs.twimg.com/profile_banners/34749634/1553389496\", \"profile_image_url\": \"http://pbs.twimg.com/profile_images/1325560081404997632/-DOzKiga_normal.jpg\", \"profile_image_url_https\": \"https://pbs.twimg.com/profile_images/1325560081404997632/-DOzKiga_normal.jpg\", \"profile_link_color\": \"4099FF\", \"profile_sidebar_border_color\": \"FFFFFF\", \"profile_sidebar_fill_color\": \"DDEEF6\", \"profile_text_color\": \"333333\", \"profile_use_background_image\": true, \"screen_name\": \"NikBearBrown\", \"statuses_count\": 37519, \"url\": \"https://t.co/ZQ9sazeznI\"}\n",
      "{\"created_at\": \"Thu Apr 23 22:15:37 +0000 2009\", \"description\": \"Northeastern University Engineering Professor in AI, ML, RL, DL, Visualization, and Games\\naka Bear\\naka Sin Cara Ojos Azules\\nPursue it. Relentlessly. #Nerdlife\", \"favourites_count\": 4218, \"followers_count\": 598, \"friends_count\": 722, \"geo_enabled\": true, \"id\": 34749634, \"id_str\": \"34749634\", \"listed_count\": 54, \"location\": \"Boston\", \"name\": \"Nik Bear Brown\", \"profile_background_color\": \"C0DEED\", \"profile_background_image_url\": \"http://abs.twimg.com/images/themes/theme1/bg.png\", \"profile_background_image_url_https\": \"https://abs.twimg.com/images/themes/theme1/bg.png\", \"profile_background_tile\": true, \"profile_banner_url\": \"https://pbs.twimg.com/profile_banners/34749634/1553389496\", \"profile_image_url\": \"http://pbs.twimg.com/profile_images/1325560081404997632/-DOzKiga_normal.jpg\", \"profile_image_url_https\": \"https://pbs.twimg.com/profile_images/1325560081404997632/-DOzKiga_normal.jpg\", \"profile_link_color\": \"4099FF\", \"profile_sidebar_border_color\": \"FFFFFF\", \"profile_sidebar_fill_color\": \"DDEEF6\", \"profile_text_color\": \"333333\", \"profile_use_background_image\": true, \"screen_name\": \"NikBearBrown\", \"statuses_count\": 37519, \"url\": \"https://t.co/ZQ9sazeznI\"}\n",
      "{\"created_at\": \"Thu Apr 23 22:15:37 +0000 2009\", \"description\": \"Northeastern University Engineering Professor in AI, ML, RL, DL, Visualization, and Games\\naka Bear\\naka Sin Cara Ojos Azules\\nPursue it. Relentlessly. #Nerdlife\", \"favourites_count\": 4218, \"followers_count\": 598, \"friends_count\": 722, \"geo_enabled\": true, \"id\": 34749634, \"id_str\": \"34749634\", \"listed_count\": 54, \"location\": \"Boston\", \"name\": \"Nik Bear Brown\", \"profile_background_color\": \"C0DEED\", \"profile_background_image_url\": \"http://abs.twimg.com/images/themes/theme1/bg.png\", \"profile_background_image_url_https\": \"https://abs.twimg.com/images/themes/theme1/bg.png\", \"profile_background_tile\": true, \"profile_banner_url\": \"https://pbs.twimg.com/profile_banners/34749634/1553389496\", \"profile_image_url\": \"http://pbs.twimg.com/profile_images/1325560081404997632/-DOzKiga_normal.jpg\", \"profile_image_url_https\": \"https://pbs.twimg.com/profile_images/1325560081404997632/-DOzKiga_normal.jpg\", \"profile_link_color\": \"4099FF\", \"profile_sidebar_border_color\": \"FFFFFF\", \"profile_sidebar_fill_color\": \"DDEEF6\", \"profile_text_color\": \"333333\", \"profile_use_background_image\": true, \"screen_name\": \"NikBearBrown\", \"statuses_count\": 37519, \"url\": \"https://t.co/ZQ9sazeznI\"}\n",
      "{\"created_at\": \"Thu Apr 23 22:15:37 +0000 2009\", \"description\": \"Northeastern University Engineering Professor in AI, ML, RL, DL, Visualization, and Games\\naka Bear\\naka Sin Cara Ojos Azules\\nPursue it. Relentlessly. #Nerdlife\", \"favourites_count\": 4218, \"followers_count\": 598, \"friends_count\": 722, \"geo_enabled\": true, \"id\": 34749634, \"id_str\": \"34749634\", \"listed_count\": 54, \"location\": \"Boston\", \"name\": \"Nik Bear Brown\", \"profile_background_color\": \"C0DEED\", \"profile_background_image_url\": \"http://abs.twimg.com/images/themes/theme1/bg.png\", \"profile_background_image_url_https\": \"https://abs.twimg.com/images/themes/theme1/bg.png\", \"profile_background_tile\": true, \"profile_banner_url\": \"https://pbs.twimg.com/profile_banners/34749634/1553389496\", \"profile_image_url\": \"http://pbs.twimg.com/profile_images/1325560081404997632/-DOzKiga_normal.jpg\", \"profile_image_url_https\": \"https://pbs.twimg.com/profile_images/1325560081404997632/-DOzKiga_normal.jpg\", \"profile_link_color\": \"4099FF\", \"profile_sidebar_border_color\": \"FFFFFF\", \"profile_sidebar_fill_color\": \"DDEEF6\", \"profile_text_color\": \"333333\", \"profile_use_background_image\": true, \"screen_name\": \"NikBearBrown\", \"statuses_count\": 37519, \"url\": \"https://t.co/ZQ9sazeznI\"}\n"
     ]
    }
   ],
   "source": [
    "for s in statuses:\n",
    "    print(s.user)"
   ]
  },
  {
   "cell_type": "markdown",
   "metadata": {},
   "source": [
    "# Excercise One \n",
    "\n",
    "What info do the Status attributes 'geo', 'hashtags', 'media', 'place', 'urls', and 'location' contain?\n"
   ]
  },
  {
   "cell_type": "code",
   "execution_count": 14,
   "metadata": {},
   "outputs": [
    {
     "name": "stdout",
     "output_type": "stream",
     "text": [
      "AI Skunkworks Speaker Session on \"Graph-Based Data Science\" by Paco Nathan Graphs #Knowledge… https://t.co/Xsdo09e8Ok\n"
     ]
    }
   ],
   "source": [
    "_=statuses[0].text\n",
    "print(_)"
   ]
  },
  {
   "cell_type": "code",
   "execution_count": 15,
   "metadata": {},
   "outputs": [
    {
     "name": "stdout",
     "output_type": "stream",
     "text": [
      "None\n"
     ]
    }
   ],
   "source": [
    "_=statuses[0].geo\n",
    "print(_)"
   ]
  },
  {
   "cell_type": "code",
   "execution_count": 16,
   "metadata": {},
   "outputs": [
    {
     "name": "stdout",
     "output_type": "stream",
     "text": [
      "[Hashtag(Text='Knowledge')]\n"
     ]
    }
   ],
   "source": [
    "_=statuses[0].hashtags\n",
    "print(_)"
   ]
  },
  {
   "cell_type": "code",
   "execution_count": 17,
   "metadata": {},
   "outputs": [
    {
     "name": "stdout",
     "output_type": "stream",
     "text": [
      "None\n"
     ]
    }
   ],
   "source": [
    "_=statuses[0].media\n",
    "print(_)"
   ]
  },
  {
   "cell_type": "code",
   "execution_count": 18,
   "metadata": {},
   "outputs": [
    {
     "name": "stdout",
     "output_type": "stream",
     "text": [
      "[URL(URL=https://t.co/Xsdo09e8Ok, ExpandedURL=https://twitter.com/i/web/status/1370587369175347203)]\n"
     ]
    }
   ],
   "source": [
    "_=statuses[0].urls\n",
    "print(_)"
   ]
  },
  {
   "cell_type": "code",
   "execution_count": 19,
   "metadata": {},
   "outputs": [
    {
     "name": "stdout",
     "output_type": "stream",
     "text": [
      "<bound method TwitterModel.AsJsonString of Status(ID=1370587369175347203, ScreenName=NikBearBrown, Created=Sat Mar 13 04:07:47 +0000 2021, Text='AI Skunkworks Speaker Session on \"Graph-Based Data Science\" by Paco Nathan Graphs #Knowledge… https://t.co/Xsdo09e8Ok')>\n"
     ]
    }
   ],
   "source": [
    "_=statuses[0].AsJsonString\n",
    "print(_)"
   ]
  },
  {
   "cell_type": "markdown",
   "metadata": {},
   "source": [
    "# Note that you may  not be getting everything\n",
    "\n",
    "The data may be truncated. If we look carefully there was a parameter called _\"truncated\": true_.\n",
    "\n",
    "Maybe we want to set that to false?\n",
    "\n",
    "```python\n",
    "print(api.VerifyCredentials())  \n",
    "\n",
    "{\"created_at\": \"Thu Apr 23 22:15:37 +0000 2009\", \"description\": \"Northeastern University Engineering Professor in AI, ML, RL, DL, Visualization, and Games\\naka Bear\\naka Sin Cara Ojos Azules\\nPursue it. Relentlessly. #Nerdlife\", \"favourites_count\": 4219, \"followers_count\": 598, \"friends_count\": 722, \"geo_enabled\": true, \"id\": 34749634, \"id_str\": \"34749634\", \"listed_count\": 54, \"location\": \"Boston\", \"name\": \"Nik Bear Brown\", \"profile_background_color\": \"C0DEED\", \"profile_background_image_url\": \"http://abs.twimg.com/images/themes/theme1/bg.png\", \"profile_background_image_url_https\": \"https://abs.twimg.com/images/themes/theme1/bg.png\", \"profile_background_tile\": true, \"profile_banner_url\": \"https://pbs.twimg.com/profile_banners/34749634/1553389496\", \"profile_image_url\": \"http://pbs.twimg.com/profile_images/1325560081404997632/-DOzKiga_normal.jpg\", \"profile_image_url_https\": \"https://pbs.twimg.com/profile_images/1325560081404997632/-DOzKiga_normal.jpg\", \"profile_link_color\": \"4099FF\", \"profile_sidebar_border_color\": \"FFFFFF\", \"profile_sidebar_fill_color\": \"DDEEF6\", \"profile_text_color\": \"333333\", \"profile_use_background_image\": true, \"screen_name\": \"NikBearBrown\", \"status\": {\"created_at\": \"Sat Mar 13 04:07:47 +0000 2021\", \"favorite_count\": 2, \"id\": 1370587369175347203, \"id_str\": \"1370587369175347203\", \"lang\": \"en\", \"retweet_count\": 6, \"source\": \"<a href=\\\"https://mobile.twitter.com\\\" rel=\\\"nofollow\\\">Twitter Web App</a>\", \"text\": \"AI Skunkworks Speaker Session on \\\"Graph-Based Data Science\\\" by Paco Nathan Graphs #Knowledge\\u2026 https://t.co/Xsdo09e8Ok\", \"truncated\": true}, \"statuses_count\": 37518, \"url\": \"https://t.co/ZQ9sazeznI\"}\n",
    "```\n",
    "\n",
    "We got the data with this line of code.\n",
    "\n",
    "```python\n",
    "statuses = api.GetUserTimeline(screen_name=user)\n",
    "statuses[0]\n",
    "```\n",
    "\n",
    "Lets look at the docs to see if can do better?\n",
    "\n",
    "Hopefully _python-twitter_ would allow one to simply set _\"truncated\": to false_. But the class doesn't seem to accept truncated as a parameter.\n",
    "\n",
    "\n",
    "```python\n",
    "GetUserTimeline(user_id=None, screen_name=None, since_id=None, max_id=None, count=None, include_rts=True, trim_user=False, exclude_replies=False)\n",
    "```\n",
    "\n",
    "See [https://python-twitter.readthedocs.io/en/latest/twitter.html](https://python-twitter.readthedocs.io/en/latest/twitter.html)  \n",
    "\n",
    "It turns out this is controlled when we make the connection, you need to make sure you have tweet_mode='extended' when you call twitter.Api(). \n",
    "\n",
    "```python\n",
    "twitter.Api(\n",
    "            consumer_key= os.environ['CONSUMER_KEY'],\n",
    "            consumer_secret= os.environ['CONSUMER_SECRET'],\n",
    "            access_token_key= os.environ['ACCESS_TOKEN'],\n",
    "            access_token_secret= os.environ['ACCESS_TOKEN_SECRET'],\n",
    "            cache=None,\n",
    "            tweet_mode= 'extended')\n",
    "```            "
   ]
  },
  {
   "cell_type": "code",
   "execution_count": 20,
   "metadata": {},
   "outputs": [],
   "source": [
    "api = twitter.Api(consumer_key=twitter_keys['api_key'],\n",
    "                      consumer_secret=twitter_keys['api_key_secret'],\n",
    "                      access_token_key=twitter_keys['access_token'],\n",
    "                      access_token_secret=twitter_keys['access_token_secret'],\n",
    "                      cache=None,\n",
    "                      tweet_mode= 'extended')                "
   ]
  },
  {
   "cell_type": "code",
   "execution_count": 21,
   "metadata": {},
   "outputs": [
    {
     "name": "stdout",
     "output_type": "stream",
     "text": [
      "{\"created_at\": \"Thu Apr 23 22:15:37 +0000 2009\", \"description\": \"Northeastern University Engineering Professor in AI, ML, RL, DL, Visualization, and Games\\naka Bear\\naka Sin Cara Ojos Azules\\nPursue it. Relentlessly. #Nerdlife\", \"favourites_count\": 4218, \"followers_count\": 598, \"friends_count\": 722, \"geo_enabled\": true, \"id\": 34749634, \"id_str\": \"34749634\", \"listed_count\": 54, \"location\": \"Boston\", \"name\": \"Nik Bear Brown\", \"profile_background_color\": \"C0DEED\", \"profile_background_image_url\": \"http://abs.twimg.com/images/themes/theme1/bg.png\", \"profile_background_image_url_https\": \"https://abs.twimg.com/images/themes/theme1/bg.png\", \"profile_background_tile\": true, \"profile_banner_url\": \"https://pbs.twimg.com/profile_banners/34749634/1553389496\", \"profile_image_url\": \"http://pbs.twimg.com/profile_images/1325560081404997632/-DOzKiga_normal.jpg\", \"profile_image_url_https\": \"https://pbs.twimg.com/profile_images/1325560081404997632/-DOzKiga_normal.jpg\", \"profile_link_color\": \"4099FF\", \"profile_sidebar_border_color\": \"FFFFFF\", \"profile_sidebar_fill_color\": \"DDEEF6\", \"profile_text_color\": \"333333\", \"profile_use_background_image\": true, \"screen_name\": \"NikBearBrown\", \"status\": {\"created_at\": \"Sat Mar 13 04:07:47 +0000 2021\", \"favorite_count\": 2, \"full_text\": \"AI Skunkworks Speaker Session on \\\"Graph-Based Data Science\\\" by Paco Nathan Graphs #Knowledge #artificialintelligence #machinelearning #Graphs  https://t.co/AZ1BsVsGzT\", \"id\": 1370587369175347203, \"id_str\": \"1370587369175347203\", \"lang\": \"en\", \"retweet_count\": 6, \"source\": \"<a href=\\\"https://mobile.twitter.com\\\" rel=\\\"nofollow\\\">Twitter Web App</a>\"}, \"statuses_count\": 37519, \"url\": \"https://t.co/ZQ9sazeznI\"}\n"
     ]
    }
   ],
   "source": [
    "print(api.VerifyCredentials())"
   ]
  },
  {
   "cell_type": "code",
   "execution_count": 22,
   "metadata": {},
   "outputs": [
    {
     "data": {
      "text/plain": [
       "Status(ID=1370587369175347203, ScreenName=NikBearBrown, Created=Sat Mar 13 04:07:47 +0000 2021, Text='AI Skunkworks Speaker Session on \"Graph-Based Data Science\" by Paco Nathan Graphs #Knowledge #artificialintelligence #machinelearning #Graphs  https://t.co/AZ1BsVsGzT')"
      ]
     },
     "execution_count": 22,
     "metadata": {},
     "output_type": "execute_result"
    }
   ],
   "source": [
    "statuses = api.GetUserTimeline(screen_name=user)\n",
    "statuses[0]"
   ]
  },
  {
   "cell_type": "code",
   "execution_count": 23,
   "metadata": {},
   "outputs": [
    {
     "name": "stdout",
     "output_type": "stream",
     "text": [
      "None\n"
     ]
    }
   ],
   "source": [
    "_=statuses[0].text\n",
    "print(_)"
   ]
  },
  {
   "cell_type": "code",
   "execution_count": 24,
   "metadata": {},
   "outputs": [
    {
     "name": "stdout",
     "output_type": "stream",
     "text": [
      "AI Skunkworks Speaker Session on \"Graph-Based Data Science\" by Paco Nathan Graphs #Knowledge #artificialintelligence #machinelearning #Graphs  https://t.co/AZ1BsVsGzT\n"
     ]
    }
   ],
   "source": [
    "_=statuses[0].full_text\n",
    "print(_)"
   ]
  },
  {
   "cell_type": "code",
   "execution_count": 25,
   "metadata": {},
   "outputs": [
    {
     "name": "stdout",
     "output_type": "stream",
     "text": [
      "[URL(URL=https://t.co/AZ1BsVsGzT, ExpandedURL=https://youtu.be/1y7yAenJmgM)]\n"
     ]
    }
   ],
   "source": [
    "_=statuses[0].urls\n",
    "print(_)"
   ]
  },
  {
   "cell_type": "code",
   "execution_count": 26,
   "metadata": {},
   "outputs": [
    {
     "name": "stdout",
     "output_type": "stream",
     "text": [
      "[Hashtag(Text='Knowledge'), Hashtag(Text='artificialintelligence'), Hashtag(Text='machinelearning'), Hashtag(Text='Graphs')]\n"
     ]
    }
   ],
   "source": [
    "_=statuses[0].hashtags\n",
    "print(_)"
   ]
  },
  {
   "cell_type": "markdown",
   "metadata": {},
   "source": [
    "# Lesson Always Sanity Check\n",
    "\n",
    "Always sanity check your data.  Look at a few examples. Is it getting what is should?\n",
    "\n",
    "*python-twitter* is a well written and sophisticated library but if we had used it in a niave way we would have been getting truncated and incomplete data.\n"
   ]
  },
  {
   "cell_type": "code",
   "execution_count": 27,
   "metadata": {},
   "outputs": [
    {
     "name": "stdout",
     "output_type": "stream",
     "text": [
      "[Hashtag(Text='Knowledge'), Hashtag(Text='artificialintelligence'), Hashtag(Text='machinelearning'), Hashtag(Text='Graphs')]\n"
     ]
    }
   ],
   "source": [
    "_=statuses[0].hashtags\n",
    "print(_)"
   ]
  },
  {
   "cell_type": "markdown",
   "metadata": {},
   "source": [
    "# Getting the actual urls\n",
    "\n",
    "_Side Note_\n",
    "\n",
    "Note that the Twitter urls are links to the tweet not what the tweet links to\n",
    "[URL(URL=https://t.co/Xsdo09e8Ok, ExpandedURL=https://twitter.com/i/web/status/1370587369175347203)] \n",
    "\n",
    "How does one get the actual url form a \"tiny\" URL like https://t.co/Xsdo09e8Ok?\n"
   ]
  },
  {
   "cell_type": "code",
   "execution_count": 28,
   "metadata": {},
   "outputs": [
    {
     "name": "stdout",
     "output_type": "stream",
     "text": [
      "1.25.11\n",
      "200\n",
      "https://www.youtube.com/watch?v=1y7yAenJmgM&feature=youtu.be\n",
      "HTTPHeaderDict({'Content-Type': 'text/html; charset=utf-8', 'X-Content-Type-Options': 'nosniff', 'Cache-Control': 'no-cache, no-store, max-age=0, must-revalidate', 'Pragma': 'no-cache', 'Expires': 'Mon, 01 Jan 1990 00:00:00 GMT', 'Date': 'Sun, 14 Mar 2021 05:27:51 GMT', 'X-Frame-Options': 'SAMEORIGIN', 'Strict-Transport-Security': 'max-age=31536000', 'P3P': 'CP=\"This is not a P3P policy! See http://support.google.com/accounts/answer/151657?hl=en for more info.\"', 'Server': 'ESF', 'X-XSS-Protection': '0', 'Set-Cookie': 'GPS=1; Domain=.youtube.com; Expires=Sun, 14-Mar-2021 05:57:51 GMT; Path=/; Secure; HttpOnly, YSC=gcxXM8iB4Lc; Domain=.youtube.com; Path=/; Secure; HttpOnly; SameSite=none, VISITOR_INFO1_LIVE=DnGqUgOB0js; Domain=.youtube.com; Expires=Fri, 10-Sep-2021 05:27:51 GMT; Path=/; Secure; HttpOnly; SameSite=none', 'Alt-Svc': 'h3-29=\":443\"; ma=2592000,h3-T051=\":443\"; ma=2592000,h3-Q050=\":443\"; ma=2592000,h3-Q046=\":443\"; ma=2592000,h3-Q043=\":443\"; ma=2592000,quic=\":443\"; ma=2592000; v=\"46,43\"', 'Accept-Ranges': 'none', 'Vary': 'Accept-Encoding', 'Transfer-Encoding': 'chunked'})\n"
     ]
    }
   ],
   "source": [
    "import urllib3\n",
    "url='https://t.co/AZ1BsVsGzT'\n",
    "print(urllib3.__version__)\n",
    "http = urllib3.PoolManager()\n",
    "resp = http.request('GET', url)\n",
    "print(resp.status) # The 200 status code means that the request has succeeded.\n",
    "print(resp.geturl())\n",
    "print(resp.info())\n",
    "resp.release_conn()"
   ]
  },
  {
   "cell_type": "markdown",
   "metadata": {},
   "source": [
    "# More Searching\n",
    "\n",
    "_Raw Queries_  \n",
    "\n",
    "To the Api.GetSearch() method, you can pass the parameter raw_query, which should be the query string you wish to use for the search omitting the leading “?”. This will override every other parameter. Twitter’s search parameters are quite complex, so if you have a need for a very particular search, you can find Twitter’s documentation at [https://dev.twitter.com/rest/public/search](https://dev.twitter.com/rest/public/search).  \n",
    "\n",
    "\n",
    "Note that the strings need to be url formated.\n",
    "\n",
    "so a query like \"data visualiztion\" cannot have spaces\n",
    "\n",
    "You can check a query by pasting it in a browser.\n",
    "\n",
    "https://twitter.com/search?q=data%20visualiztion%20&result_type=recent&since=2021-01-19&count=100\n",
    "\n",
    "results = api.GetSearch(\n",
    "    raw_query=\"q=twitter%20&result_type=recent&since=2021-01-19&count=100\")"
   ]
  },
  {
   "cell_type": "code",
   "execution_count": 29,
   "metadata": {},
   "outputs": [
    {
     "name": "stdout",
     "output_type": "stream",
     "text": [
      "q=data+visualization&result_type=recent&since=2021-01-19&count=100\n",
      "https://twitter.com/search?q=data+visualization&result_type=recent&since=2021-01-19&count=100\n"
     ]
    }
   ],
   "source": [
    "# Make sure raw query is url encoded\n",
    "from urllib.parse import urlencode, quote_plus\n",
    "base='https://twitter.com/search?'\n",
    "params = {'q': 'data visualization', 'result_type': 'recent', 'since': '2021-01-19', 'count': 100}\n",
    "query = urlencode(params)\n",
    "print(query)\n",
    "query=base+query\n",
    "print(query)"
   ]
  },
  {
   "cell_type": "code",
   "execution_count": 30,
   "metadata": {},
   "outputs": [],
   "source": [
    "results = api.GetSearch(\n",
    "    raw_query=\"q=data+visualization&lang=en\")"
   ]
  },
  {
   "cell_type": "code",
   "execution_count": 31,
   "metadata": {},
   "outputs": [
    {
     "data": {
      "text/plain": [
       "[Status(ID=1370969597688578050, ScreenName=SSXman2, Created=Sun Mar 14 05:26:38 +0000 2021, Text='RT @Ronald_vanLoon: 60 Types Of #Data Visualization And Their Usage\\nby @SR_Visual_Info @dataviz_catalog\\n\\n#DataScience #DataAnalytics #Analy…'),\n",
       " Status(ID=1370969077376684033, ScreenName=HninThetHmuKhin, Created=Sun Mar 14 05:24:34 +0000 2021, Text=\"RT @CyrixLu: You can check data visualization about what's happening in Myanmar since February 1 coup. \\nhttps://t.co/nMWMbcfEkR\\n\\n#WhatsHapp…\"),\n",
       " Status(ID=1370967532438315013, ScreenName=elcaosmx, Created=Sun Mar 14 05:18:25 +0000 2021, Text=\"RT @freeCodeCamp: Businesses are increasingly data-driven - and they need a way to visualize that data so it's easier to analyze.\\n\\nIf you'r…\"),\n",
       " Status(ID=1370965170697031688, ScreenName=Aatisharap, Created=Sun Mar 14 05:09:02 +0000 2021, Text='RT @abhymurarka: Data visualization.. https://t.co/50s1FQ8HUa'),\n",
       " Status(ID=1370964573788856321, ScreenName=wawaggmu, Created=Sun Mar 14 05:06:40 +0000 2021, Text='RT @fplAnalytics: Transfers Out Last Hour(Top 5): \\n\\nBamford(-557)\\nGündogan(-487)\\nSterling(-305)\\nSalah(-213)\\nGrealish(-211)\\n\\nSun, 14 Mar 202…'),\n",
       " Status(ID=1370964335628017666, ScreenName=fplAnalytics, Created=Sun Mar 14 05:05:43 +0000 2021, Text='Transfers Out Last Hour(Top 5): \\n\\nBamford(-557)\\nGündogan(-487)\\nSterling(-305)\\nSalah(-213)\\nGrealish(-211)\\n\\nSun, 14 Mar 2021 05:00 (GMT)\\n\\nFull GW Data: \\n\\nTable --&gt; https://t.co/8PUJ8ywWKs \\nVisualization --&gt; https://t.co/arhpOYXjt8'),\n",
       " Status(ID=1370963491167801347, ScreenName=hubofml, Created=Sun Mar 14 05:02:22 +0000 2021, Text='RT @machinelearnflx: LEARNING PATH: R: Complete Data Visualization with R https://t.co/F4ELd7w1aU  #machinelearning #ad'),\n",
       " Status(ID=1370963197818138626, ScreenName=josewtf01, Created=Sun Mar 14 05:01:12 +0000 2021, Text=\"RT @freeCodeCamp: Businesses are increasingly data-driven - and they need a way to visualize that data so it's easier to analyze.\\n\\nIf you'r…\"),\n",
       " Status(ID=1370963069216690180, ScreenName=fplAnalytics, Created=Sun Mar 14 05:00:41 +0000 2021, Text='Transfers In Last Hour(Top 5): \\n\\nLingard(490)\\nBale(431)\\nDallas(371)\\nRaphinha(342)\\nAubameyang(328)\\n\\nSun, 14 Mar 2021 05:00 (GMT)\\n\\nFull GW Data: \\n\\nTable --&gt; https://t.co/8PUJ8ywWKs \\nVisualization --&gt; https://t.co/arhpOYXjt8'),\n",
       " Status(ID=1370962176568082432, ScreenName=TheCuriousLuke, Created=Sun Mar 14 04:57:08 +0000 2021, Text='RT @machinelearnflx: LEARNING PATH: R: Complete Data Visualization with R https://t.co/F4ELd7w1aU  #machinelearning #ad'),\n",
       " Status(ID=1370962163922182144, ScreenName=code_convention, Created=Sun Mar 14 04:57:05 +0000 2021, Text='RT @machinelearnflx: LEARNING PATH: R: Complete Data Visualization with R https://t.co/F4ELd7w1aU  #machinelearning #ad'),\n",
       " Status(ID=1370961584546140160, ScreenName=bungobot1, Created=Sun Mar 14 04:54:47 +0000 2021, Text='RT @machinelearnflx: LEARNING PATH: R: Complete Data Visualization with R https://t.co/F4ELd7w1aU  #machinelearning #ad'),\n",
       " Status(ID=1370961504007249921, ScreenName=rushman6, Created=Sun Mar 14 04:54:28 +0000 2021, Text='RT @IneffableJeffC: @DonaldJTrumpJr @govkristinoem And if it were a nation of its own, SD would be the world leader in per capita COVID dea…'),\n",
       " Status(ID=1370960951109840900, ScreenName=code_convention, Created=Sun Mar 14 04:52:16 +0000 2021, Text='RT @e2d3org: E2D3 is an #Excel add-in for #dataviz. Excel to #d3js.#GitHub #data #datavizualization #javascript #json #infographics #startu…'),\n",
       " Status(ID=1370960276892348422, ScreenName=machinelearnflx, Created=Sun Mar 14 04:49:35 +0000 2021, Text='LEARNING PATH: R: Complete Data Visualization with R https://t.co/F4ELd7w1aU  #machinelearning #ad')]"
      ]
     },
     "execution_count": 31,
     "metadata": {},
     "output_type": "execute_result"
    }
   ],
   "source": [
    "results"
   ]
  },
  {
   "cell_type": "markdown",
   "metadata": {},
   "source": [
    "# twitter-friends\n",
    "  \n",
    "lists all of a given user's friends (ie, followees)\n",
    "  \n",
    "twitter API docs: https://dev.twitter.com/rest/reference/get/friends/ids"
   ]
  },
  {
   "cell_type": "code",
   "execution_count": 32,
   "metadata": {},
   "outputs": [
    {
     "name": "stdout",
     "output_type": "stream",
     "text": [
      "nikbearbrown\n"
     ]
    }
   ],
   "source": [
    "print(user)\n",
    "friends = api.GetFriendIDs(screen_name = user)"
   ]
  },
  {
   "cell_type": "code",
   "execution_count": 33,
   "metadata": {},
   "outputs": [
    {
     "data": {
      "text/plain": [
       "[1204955487650775040, 479437493, 1367576617879535624, 416503462, 1392379572]"
      ]
     },
     "execution_count": 33,
     "metadata": {},
     "output_type": "execute_result"
    }
   ],
   "source": [
    "friends[0:5]"
   ]
  },
  {
   "cell_type": "code",
   "execution_count": 34,
   "metadata": {},
   "outputs": [],
   "source": [
    "friends = api.GetFriends(screen_name = user)"
   ]
  },
  {
   "cell_type": "code",
   "execution_count": 35,
   "metadata": {},
   "outputs": [
    {
     "data": {
      "text/plain": [
       "[User(ID=1204955487650775040, ScreenName=Aishwar73057379),\n",
       " User(ID=479437493, ScreenName=GrabFedor),\n",
       " User(ID=1367576617879535624, ScreenName=eric49907274),\n",
       " User(ID=416503462, ScreenName=cgrenier324),\n",
       " User(ID=1392379572, ScreenName=nowwhatstherush)]"
      ]
     },
     "execution_count": 35,
     "metadata": {},
     "output_type": "execute_result"
    }
   ],
   "source": [
    "friends[0:5]"
   ]
  },
  {
   "cell_type": "markdown",
   "metadata": {},
   "source": [
    "# geo search\n",
    "\n",
    "Let's get tweets within 1 mile of Northeastern Univeristy.\n",
    "\n",
    "The GPS Coordinates of Northeastern Univeristy are:  \n",
    "\n",
    "DD Coordinates \n",
    "42.33666532 -71.08749965  \n",
    "\n",
    "DD Coordinates \n",
    "42°20'12.00\" N -71°05'15.00\" W \n",
    "\n",
    "Geohash Coordinates  \n",
    "drt2y75svnqmu13\n",
    "\n",
    "UTM Coordinates  \n",
    "19T 328028.91214765 4689267.261328  \n"
   ]
  },
  {
   "cell_type": "code",
   "execution_count": 36,
   "metadata": {},
   "outputs": [],
   "source": [
    "geo=api.GetSearch(geocode=\"42.33666532,-71.08749965,1mi\")"
   ]
  },
  {
   "cell_type": "code",
   "execution_count": 37,
   "metadata": {},
   "outputs": [
    {
     "data": {
      "text/plain": [
       "[Status(ID=1370936876366979078, ScreenName=Guaroaandujar, Created=Sun Mar 14 03:16:36 +0000 2021, Text='# Reflexión\\n\\nGUAROA ANDÚJAR\\n💻El Pionero de las Redes Sociales en Bani📲🤳🏻📸\\nhttps://t.co/T8du7B2Ey1 en Roxbury, Boston https://t.co/6qR5ak1xSs')]"
      ]
     },
     "execution_count": 37,
     "metadata": {},
     "output_type": "execute_result"
    }
   ],
   "source": [
    "geo[0:5]"
   ]
  },
  {
   "cell_type": "markdown",
   "metadata": {},
   "source": [
    "# twitter streams\n",
    "\n",
    "The twitter streaming API gives a ultra-real-time stream of twitter's public timeline.\n",
    "\n",
    "See [https://developer.twitter.com/en/docs/tutorials/consuming-streaming-data](https://developer.twitter.com/en/docs/tutorials/consuming-streaming-data)  \n",
    "\n",
    "The Twitter stream sends new Tweets through the open connection as they happen, and your client app should read the data off the line as it is received by saving the data.\n",
    "\n",
    "\n",
    "_python-twitter_\n",
    "\n",
    "python-twitter has a GetStreamFilter class for consuming streaming data.  \n",
    "\n",
    "```python\n",
    "GetStreamFilter(follow=None, track=None, locations=None, languages=None, delimited=None, stall_warnings=None, filter_level=None)  \n",
    "```\n",
    "\n",
    "Parameters:\t\n",
    "    \n",
    "follow – A list of user IDs to track. _Optional_     \n",
    "track – A list of expressions to track. _Optional_     \n",
    "locations – A list of Longitude,Latitude pairs (as strings) specifying bounding boxes for the tweets’ origin. _Optional_     \n",
    "delimited – Specifies a message length. _Optional_     \n",
    "stall_warnings – Set to True to have Twitter deliver stall warnings. _Optional_     \n",
    "languages – A list of Languages. Will only return Tweets that have been detected as being written in the specified languages. _Optional_     \n",
    "filter_level – Specifies level of filtering applied to stream. Set to None, ‘low’ or ‘medium’. _Optional_     \n",
    "\n",
    "Returns:\t\n",
    "\n",
    "A twitter stream\n",
    "\n",
    "\n",
    "*Note that the Twitter stream is continuous so this should be written as a script that continiously runs and saves the data to disk.*\n",
    "\n",
    "\n",
    "This is best done on a cloud server.  Northeastern provides server support for students at the NU Discover cluster.\n",
    "\n",
    "https://rc.northeastern.edu/\n",
    "\n",
    "\n",
    "```python\n",
    "\n",
    "\n",
    "import os\n",
    "import json\n",
    "\n",
    "\n",
    "from twitter import Api\n",
    "\n",
    "# Either specify a set of keys here or use os.getenv('CONSUMER_KEY') style\n",
    "# assignment:\n",
    "\n",
    "CONSUMER_KEY = 'WWWWWWWW'\n",
    "# CONSUMER_KEY = os.getenv(\"CONSUMER_KEY\", None)\n",
    "CONSUMER_SECRET = 'XXXXXXXX'\n",
    "# CONSUMER_SECRET = os.getenv(\"CONSUMER_SECRET\", None)\n",
    "ACCESS_TOKEN = 'YYYYYYYY'\n",
    "# ACCESS_TOKEN = os.getenv(\"ACCESS_TOKEN\", None)\n",
    "ACCESS_TOKEN_SECRET = 'ZZZZZZZZ'\n",
    "# ACCESS_TOKEN_SECRET = os.getenv(\"ACCESS_TOKEN_SECRET\", None)\n",
    "\n",
    "# Users to watch for should be a list. This will be joined by Twitter and the\n",
    "# data returned will be for any tweet mentioning:\n",
    "# @twitter *OR* @twitterapi *OR* @support.\n",
    "USERS = ['@twitter',\n",
    "         '@twitterapi',\n",
    "         '@support']\n",
    "\n",
    "# Languages to filter tweets by is a list. This will be joined by Twitter\n",
    "# to return data mentioning tweets only in the english language.\n",
    "LANGUAGES = ['en']\n",
    "\n",
    "# Since we're going to be using a streaming endpoint, there is no need to worry\n",
    "# about rate limits.\n",
    "api = Api(CONSUMER_KEY,\n",
    "          CONSUMER_SECRET,\n",
    "          ACCESS_TOKEN,\n",
    "          ACCESS_TOKEN_SECRET)\n",
    "\n",
    "\n",
    "def main():\n",
    "    with open('output.txt', 'a') as f:\n",
    "        # api.GetStreamFilter will return a generator that yields one status\n",
    "        # message (i.e., Tweet) at a time as a JSON dictionary.\n",
    "        for line in api.GetStreamFilter(track=USERS, languages=LANGUAGES):\n",
    "            f.write(json.dumps(line))\n",
    "            f.write('\\n')\n",
    "\n",
    "\n",
    "if __name__ == '__main__':\n",
    "    main()\n",
    "\n",
    "\n",
    "\n",
    "```\n",
    "\n",
    "# Excercise Two\n",
    "\n",
    "How would one modify the code below to get streaming tweets at specific geolocation(s)?\n",
    "\n",
    "```python\n",
    "api.GetStreamFilter(track=USERS, languages=LANGUAGES)\n",
    "```\n",
    "\n",
    "\n",
    "*A:*\n",
    "\n",
    "```python\n",
    "LOCATIONS = ['42.33666532,-71.08749965',\n",
    "         '34.06999972,-118.439789907'] # Northeastern & UCLA\n",
    "\n",
    "\n",
    "api.GetStreamFilter(track=USERS, languages=LANGUAGES, locations=LOCATIONS)\n",
    "\n",
    "```\n",
    "\n",
    "*Nota bene* \n",
    "\n",
    "A seperate tutorial on setting up a continious Twitter Streaming Listener and saving and parsing the data will be created.  \n"
   ]
  },
  {
   "cell_type": "markdown",
   "metadata": {},
   "source": [
    "# Next Steps\n",
    "\n",
    "There is a lot more to explore when dealing with Twitter data. Many more searches can be done and often the data needs to be cleaned and reformated.\n",
    "\n",
    "Feature engineering is when one adds additional information to a tweet or twitter user such as identifying \"fake news\" tweets or flagging twitter users as bots or identifying which twitter users love d3. _d2d3_ will be adding additional notebooks, tutorials and videos that show how to do such things as:   \n",
    "\n",
    "The d2d3 (data to d3) project creates tutorials and tools that  gather, clean, format, explore, munge, understand and feature engineer data before creating beautiful d3 visualizations.\n",
    "\n",
    "\n",
    "* Creating bots \n",
    "* Create network data and identify important tweeters and tweets\n",
    "* Create hierarchical data \n",
    "* Identifying which twitter users are renowned information visualizers.\n",
    "* Creating lists of information design companies and their Twitter handles\n",
    "* Geolocating tweets whose geo attribute is None.\n",
    "* Extracting and tagging media in tweets\n",
    "* Analyzing the sentiment of tweets\n",
    "* Add missing hashtags to tweets\n",
    "* Analyzing Twitter trends \n",
    "* Formatting and preparing Twitter data so that it can be used for every graph in the d3 gallery [https://observablehq.com/@d3/gallery](https://observablehq.com/@d3/gallery)\n",
    "* Merging Twitter data with other data sources such as Google trends, Wikipedia, etc.  \n",
    "\n",
    "\n",
    "Email _d2d3_ at _d2d3.net_ if you would like to see a particular tutorial.  \n",
    "  \n"
   ]
  },
  {
   "cell_type": "markdown",
   "metadata": {},
   "source": [
    "MIT License\n",
    "\n",
    "Copyright (c) 2021 Nik Bear Brown & _d2d3.net_  \n",
    "\n",
    "Permission is hereby granted, free of charge, to any person obtaining a copy\n",
    "of this software and associated documentation files (the \"Software\"), to deal\n",
    "in the Software without restriction, including without limitation the rights\n",
    "to use, copy, modify, merge, publish, distribute, sublicense, and/or sell\n",
    "copies of the Software, and to permit persons to whom the Software is\n",
    "furnished to do so, subject to the following conditions:\n",
    "\n",
    "The above copyright notice and this permission notice shall be included in all\n",
    "copies or substantial portions of the Software.\n",
    "\n",
    "THE SOFTWARE IS PROVIDED \"AS IS\", WITHOUT WARRANTY OF ANY KIND, EXPRESS OR\n",
    "IMPLIED, INCLUDING BUT NOT LIMITED TO THE WARRANTIES OF MERCHANTABILITY,\n",
    "FITNESS FOR A PARTICULAR PURPOSE AND NONINFRINGEMENT. IN NO EVENT SHALL THE\n",
    "AUTHORS OR COPYRIGHT HOLDERS BE LIABLE FOR ANY CLAIM, DAMAGES OR OTHER\n",
    "LIABILITY, WHETHER IN AN ACTION OF CONTRACT, TORT OR OTHERWISE, ARISING FROM,\n",
    "OUT OF OR IN CONNECTION WITH THE SOFTWARE OR THE USE OR OTHER DEALINGS IN THE\n",
    "SOFTWARE."
   ]
  }
 ],
 "metadata": {
  "kernelspec": {
   "display_name": "Python 3",
   "language": "python",
   "name": "python3"
  },
  "language_info": {
   "codemirror_mode": {
    "name": "ipython",
    "version": 3
   },
   "file_extension": ".py",
   "mimetype": "text/x-python",
   "name": "python",
   "nbconvert_exporter": "python",
   "pygments_lexer": "ipython3",
   "version": "3.8.5"
  }
 },
 "nbformat": 4,
 "nbformat_minor": 4
}
